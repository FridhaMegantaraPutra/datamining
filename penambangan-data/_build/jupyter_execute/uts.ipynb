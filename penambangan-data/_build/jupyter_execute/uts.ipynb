{
 "cells": [
  {
   "cell_type": "markdown",
   "id": "fce9f771",
   "metadata": {},
   "source": [
    "# UTS\n",
    "\n",
    "### Import libraries\n",
    "\n",
    "pertama yang harus di lakukan adalah mengimport library"
   ]
  },
  {
   "cell_type": "code",
   "execution_count": 1,
   "id": "801f86c2",
   "metadata": {},
   "outputs": [],
   "source": [
    "import numpy as np\n",
    "import pandas as pd\n",
    "import matplotlib.pyplot as plt\n",
    "from matplotlib import rcParams\n",
    "from matplotlib.cm import rainbow\n",
    "%matplotlib inline\n",
    "import warnings\n",
    "warnings.filterwarnings('ignore')\n",
    "import seaborn as sns\n",
    "\n",
    "\n"
   ]
  },
  {
   "cell_type": "markdown",
   "id": "ad946151",
   "metadata": {},
   "source": [
    "### Import dataset\n",
    "\n",
    "import dataset"
   ]
  },
  {
   "cell_type": "code",
   "execution_count": null,
   "id": "9bb8a679",
   "metadata": {},
   "outputs": [],
   "source": [
    "dataset = pd.read_csv('dataset.csv')\n",
    "print(dataset)\n",
    "\n"
   ]
  },
  {
   "cell_type": "markdown",
   "id": "2b48ab5c",
   "metadata": {},
   "source": [
    "selanjutnya yang di lakukan adalah untuk mengecek misssing value apabilah ada missing value akan di gunakan KNN untuk mencari data yang hilang tersebut"
   ]
  },
  {
   "cell_type": "code",
   "execution_count": null,
   "id": "b7e41701",
   "metadata": {},
   "outputs": [],
   "source": [
    "dataset.info()\n",
    "\n"
   ]
  },
  {
   "cell_type": "markdown",
   "id": "dab2c9bd",
   "metadata": {},
   "source": [
    "total data ada 303 tanpa ada missing value"
   ]
  },
  {
   "cell_type": "code",
   "execution_count": null,
   "id": "d3343b49",
   "metadata": {},
   "outputs": [],
   "source": [
    "dataset.describe()\n"
   ]
  },
  {
   "cell_type": "markdown",
   "id": "c242d405",
   "metadata": {},
   "source": [
    "lalu cek ukuran datanya"
   ]
  },
  {
   "cell_type": "code",
   "execution_count": null,
   "id": "79fe0eab",
   "metadata": {},
   "outputs": [],
   "source": [
    "\n",
    "dataset.shape\n",
    "\n"
   ]
  },
  {
   "cell_type": "code",
   "execution_count": null,
   "id": "aaf23ef0",
   "metadata": {},
   "outputs": [],
   "source": [
    "f,ax = plt.subplots(figsize=(25, 15))\n",
    "sns.heatmap(dataset.corr(), annot=True, linewidths=0.5,linecolor=\"red\", fmt= '.1f',ax=ax)\n",
    "plt.show()\n",
    "\n"
   ]
  },
  {
   "cell_type": "markdown",
   "id": "57b4f68a",
   "metadata": {},
   "source": [
    "lalu kita pisahkan antara fiture dan label"
   ]
  },
  {
   "cell_type": "code",
   "execution_count": null,
   "id": "0002a312",
   "metadata": {},
   "outputs": [],
   "source": [
    "X=dataset.iloc[:, 0:13]\n",
    "X.head()\n",
    "\n",
    "\n"
   ]
  },
  {
   "cell_type": "markdown",
   "id": "7b84be84",
   "metadata": {},
   "source": [
    "dan ini adalah labelnya yang telah di pisahkan"
   ]
  },
  {
   "cell_type": "code",
   "execution_count": null,
   "id": "081d0f09",
   "metadata": {},
   "outputs": [],
   "source": [
    "y=dataset.iloc[:,-1]\n",
    "y.head()\n"
   ]
  },
  {
   "cell_type": "markdown",
   "id": "5fc04c30",
   "metadata": {},
   "source": [
    "lalu selanjutnya melakukan standarisasi data\n",
    "\n",
    "$$z=\\frac{x-\\mu}{\\sigma}$$"
   ]
  },
  {
   "cell_type": "code",
   "execution_count": null,
   "id": "2d5160f6",
   "metadata": {},
   "outputs": [],
   "source": [
    "from sklearn.preprocessing import StandardScaler\n",
    "scaler = StandardScaler()\n",
    "scaler.fit(X)\n",
    "X = scaler.transform(X)\n",
    "print(X)\n",
    "\n"
   ]
  },
  {
   "cell_type": "markdown",
   "id": "7e0d3f81",
   "metadata": {},
   "source": [
    "membagi data menjadi data latih dan data uji"
   ]
  },
  {
   "cell_type": "code",
   "execution_count": null,
   "id": "8c15e1b4",
   "metadata": {},
   "outputs": [],
   "source": [
    "from sklearn.model_selection import train_test_split\n",
    "bagi = X_train, X_test, y_train, y_test = train_test_split(X, y, test_size=0.2, random_state=42)\n",
    "print(bagi)\n",
    "\n",
    "\n"
   ]
  },
  {
   "cell_type": "code",
   "execution_count": null,
   "id": "70b5ef0a",
   "metadata": {},
   "outputs": [],
   "source": [
    "from sklearn.naive_bayes import GaussianNB\n",
    "from sklearn import metrics\n",
    "classifier = GaussianNB()\n",
    "classifier.fit(X_train, y_train)\n",
    "y_pred = classifier.predict(X_test)\n",
    "print(y_pred)\n",
    "\n",
    "\n"
   ]
  },
  {
   "cell_type": "markdown",
   "id": "61adf0bc",
   "metadata": {},
   "source": [
    "di atas adalah hasil prediksi dari data uji yang telah di latih\n",
    "lalu yang harus kita lakukan adalah mengecek akurasinya"
   ]
  },
  {
   "cell_type": "code",
   "execution_count": null,
   "id": "9106b103",
   "metadata": {},
   "outputs": [],
   "source": [
    "print('Accuracy Score:')\n",
    "print(metrics.accuracy_score(y_test,y_pred))\n",
    "\n",
    "\n"
   ]
  },
  {
   "cell_type": "markdown",
   "id": "5c55876b",
   "metadata": {},
   "source": [
    "```{tableofcontents}\n",
    "\n",
    "```"
   ]
  }
 ],
 "metadata": {
  "jupytext": {
   "formats": "md:myst",
   "text_representation": {
    "extension": ".md",
    "format_name": "myst",
    "format_version": 0.13,
    "jupytext_version": "1.14.5"
   }
  },
  "kernelspec": {
   "display_name": "Python 3 (ipykernel)",
   "language": "python",
   "name": "python3"
  },
  "language_info": {
   "codemirror_mode": {
    "name": "ipython",
    "version": 3
   },
   "file_extension": ".py",
   "mimetype": "text/x-python",
   "name": "python",
   "nbconvert_exporter": "python",
   "pygments_lexer": "ipython3",
   "version": "3.10.9"
  },
  "source_map": [
   13,
   21,
   35,
   41,
   46,
   50,
   54,
   58,
   61,
   65,
   73,
   79,
   83,
   90,
   94,
   99,
   105,
   113,
   117,
   126,
   136,
   141,
   148
  ]
 },
 "nbformat": 4,
 "nbformat_minor": 5
}