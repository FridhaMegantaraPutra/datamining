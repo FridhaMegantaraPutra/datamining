{
 "cells": [
  {
   "cell_type": "markdown",
   "id": "6f161583",
   "metadata": {},
   "source": [
    "# tugas decision tree"
   ]
  },
  {
   "cell_type": "code",
   "execution_count": 85,
   "id": "5958b17e",
   "metadata": {},
   "outputs": [],
   "source": [
    "import pandas as pd\n",
    "import numpy as np\n",
    "from sklearn.tree import DecisionTreeClassifier \n",
    "from sklearn.model_selection import train_test_split \n",
    "from sklearn import metrics \n",
    "import matplotlib.pyplot as plt\n",
    "from sklearn.datasets import load_iris\n",
    "from sklearn.tree import DecisionTreeClassifier\n",
    "from sklearn import tree"
   ]
  },
  {
   "cell_type": "markdown",
   "id": "4a81b603",
   "metadata": {},
   "source": [
    "setelah mengimport library saya akan menampilkan data yang akan saya import dengan nama iris.csv"
   ]
  },
  {
   "cell_type": "code",
   "execution_count": 86,
   "id": "e9212535",
   "metadata": {},
   "outputs": [],
   "source": [
    "dataset = pd.read_csv('iris.csv')"
   ]
  },
  {
   "cell_type": "code",
   "execution_count": 87,
   "id": "d9691777",
   "metadata": {},
   "outputs": [
    {
     "name": "stdout",
     "output_type": "stream",
     "text": [
      "      No  SepalLengthCm  SepalWidthCm  PetalLengthCm  PetalWidthCm  \\\n",
      "0      1            5.1           3.5            1.4           0.2   \n",
      "1      2            4.9           3.0            1.4           0.2   \n",
      "2      3            4.7           3.2            1.3           0.2   \n",
      "3      4            4.6           3.1            1.5           0.2   \n",
      "4      5            5.0           3.6            1.4           0.2   \n",
      "..   ...            ...           ...            ...           ...   \n",
      "145  146            6.7           3.0            5.2           2.3   \n",
      "146  147            6.3           2.5            5.0           1.9   \n",
      "147  148            6.5           3.0            5.2           2.0   \n",
      "148  149            6.2           3.4            5.4           2.3   \n",
      "149  150            5.9           3.0            5.1           1.8   \n",
      "\n",
      "            Species  \n",
      "0       Iris-setosa  \n",
      "1       Iris-setosa  \n",
      "2       Iris-setosa  \n",
      "3       Iris-setosa  \n",
      "4       Iris-setosa  \n",
      "..              ...  \n",
      "145  Iris-virginica  \n",
      "146  Iris-virginica  \n",
      "147  Iris-virginica  \n",
      "148  Iris-virginica  \n",
      "149  Iris-virginica  \n",
      "\n",
      "[150 rows x 6 columns]\n"
     ]
    }
   ],
   "source": [
    "print(dataset)"
   ]
  },
  {
   "cell_type": "markdown",
   "id": "26a8b446",
   "metadata": {},
   "source": [
    "lalu yang akan saya lakukan selanjutnya adalah memisahkan label dengan fitur agar tidak bercampur"
   ]
  },
  {
   "cell_type": "code",
   "execution_count": 88,
   "id": "67744f60",
   "metadata": {},
   "outputs": [],
   "source": [
    "\n",
    "feature_cols = ['SepalLengthCm', 'SepalWidthCm', 'PetalLengthCm', 'PetalWidthCm']\n",
    "X = dataset[feature_cols]\n",
    "y = dataset.Species \n"
   ]
  },
  {
   "cell_type": "code",
   "execution_count": 89,
   "id": "2c5b9ad7",
   "metadata": {},
   "outputs": [
    {
     "ename": "SyntaxError",
     "evalue": "invalid syntax (1873237818.py, line 1)",
     "output_type": "error",
     "traceback": [
      "\u001b[1;36m  Cell \u001b[1;32mIn[89], line 1\u001b[1;36m\u001b[0m\n\u001b[1;33m    di bawah ini adalah hasil dari fitur yang telah di pisahkan dengan label\u001b[0m\n\u001b[1;37m       ^\u001b[0m\n\u001b[1;31mSyntaxError\u001b[0m\u001b[1;31m:\u001b[0m invalid syntax\n"
     ]
    }
   ],
   "source": [
    "di bawah ini adalah hasil dari fitur yang telah di pisahkan dengan label"
   ]
  },
  {
   "cell_type": "code",
   "execution_count": null,
   "id": "8a0e1aca",
   "metadata": {},
   "outputs": [],
   "source": [
    "print(X)\n"
   ]
  },
  {
   "cell_type": "markdown",
   "id": "80d82335",
   "metadata": {},
   "source": [
    "sedangkan di bawah ini adalah label yang telah di pisahkan dari fitur"
   ]
  },
  {
   "cell_type": "code",
   "execution_count": null,
   "id": "f5c5afa8",
   "metadata": {},
   "outputs": [],
   "source": [
    "print(y)"
   ]
  },
  {
   "cell_type": "markdown",
   "id": "d0e541a3",
   "metadata": {},
   "source": [
    "lalu saya membagi data test dan train sesuai dengan perintah yaitu 0.8/0.2 atau 80% / 20%"
   ]
  },
  {
   "cell_type": "code",
   "execution_count": null,
   "id": "c40c2b28",
   "metadata": {},
   "outputs": [],
   "source": [
    "X_train, X_test, y_train, y_test = train_test_split(X, y, test_size=0.2, random_state=1) #data test nya 20%"
   ]
  },
  {
   "cell_type": "markdown",
   "id": "6c6433c8",
   "metadata": {},
   "source": [
    "rumus index gini yang di gunakan $1 - \\sum_{i=1}^{k} (p_i)^2$\n",
    "\n",
    "di kasus ini saya menggunakan kriteria gini dan membatasi kedalaman pohon dengan 4 ,dan juga ada beberapa argumen\n",
    "Argumen X_train adalah matriks data training yang berisi fitur-fitur dari data,\n",
    "argumen y_train adalah vektor label atau kelas dari data training yang digunakan untuk mengawasi proses pelatihan"
   ]
  },
  {
   "cell_type": "code",
   "execution_count": null,
   "id": "4bbb6ead",
   "metadata": {},
   "outputs": [],
   "source": [
    "clf_tree = DecisionTreeClassifier(criterion='gini', max_depth=4, random_state=1)\n",
    "clf_tree.fit(X_train, y_train)\n"
   ]
  },
  {
   "cell_type": "markdown",
   "id": "f285d107",
   "metadata": {},
   "source": [
    "dan selanjutnya saya akan melakukan testing dari X_test"
   ]
  },
  {
   "cell_type": "code",
   "execution_count": null,
   "id": "4bbe9341",
   "metadata": {},
   "outputs": [],
   "source": [
    "\n",
    "y_pred = clf_tree.predict(X_test)"
   ]
  },
  {
   "cell_type": "markdown",
   "id": "94f31841",
   "metadata": {},
   "source": [
    "berikut adalah visualisasi dari pohon keputusan dengan menggunakan ploting dari mathplotlip"
   ]
  },
  {
   "cell_type": "code",
   "execution_count": null,
   "id": "dddb8709",
   "metadata": {},
   "outputs": [],
   "source": [
    "fn=['sepal length (cm)','sepal width (cm)','petal length (cm)','petal width (cm)']\n",
    "cn=['setosa', 'versicolor', 'virginica']\n",
    "fig, axes = plt.subplots(nrows = 1,ncols = 1,figsize = (4,4), dpi=300)\n",
    "tree.plot_tree(clf_tree,\n",
    "               feature_names = fn, \n",
    "               class_names=cn,\n",
    "               filled = True);\n",
    "fig.savefig('imagename.png')"
   ]
  },
  {
   "cell_type": "markdown",
   "id": "38e124c3",
   "metadata": {},
   "source": [
    "lalu sesuai perintah saya akan menghitung akurasi dari decision tree"
   ]
  },
  {
   "cell_type": "code",
   "execution_count": null,
   "id": "35978e17",
   "metadata": {},
   "outputs": [],
   "source": [
    "\n",
    "print(\"Accuracy:\",metrics.accuracy_score(y_test, y_pred))\n"
   ]
  },
  {
   "cell_type": "markdown",
   "id": "66d9964b",
   "metadata": {},
   "source": [
    " __________________________________________________________________\n",
    "\n",
    " membandingkan decision tree dengan KNN dan NAIVE BAYES\n",
    "\n",
    " __________________________________________________________________"
   ]
  },
  {
   "cell_type": "markdown",
   "id": "af151eff",
   "metadata": {},
   "source": [
    " KNN"
   ]
  },
  {
   "cell_type": "markdown",
   "id": "22714b93",
   "metadata": {},
   "source": [
    "from sklearn.neighbors import KNeighborsClassifier\n",
    "classifier = KNeighborsClassifier(n_neighbors = 5, metric = 'minkowski', p = 2)\n",
    "classifier.fit(X_train, y_train)"
   ]
  },
  {
   "cell_type": "markdown",
   "id": "a0c8d77e",
   "metadata": {},
   "source": [
    "di sini saya menggunakan minkowski untuk menghitung jarak menggunakan minkowski\n",
    "\n",
    "ini adalah rumus minkowski\n",
    "\n",
    "$\\left(\\sum_{i=1}^n\\left|x_i-y_i\\right|^p\\right)^{\\frac{1}{p}}$"
   ]
  },
  {
   "cell_type": "code",
   "execution_count": 90,
   "id": "883ce661",
   "metadata": {},
   "outputs": [
    {
     "data": {
      "text/html": [
       "<style>#sk-container-id-9 {color: black;background-color: white;}#sk-container-id-9 pre{padding: 0;}#sk-container-id-9 div.sk-toggleable {background-color: white;}#sk-container-id-9 label.sk-toggleable__label {cursor: pointer;display: block;width: 100%;margin-bottom: 0;padding: 0.3em;box-sizing: border-box;text-align: center;}#sk-container-id-9 label.sk-toggleable__label-arrow:before {content: \"▸\";float: left;margin-right: 0.25em;color: #696969;}#sk-container-id-9 label.sk-toggleable__label-arrow:hover:before {color: black;}#sk-container-id-9 div.sk-estimator:hover label.sk-toggleable__label-arrow:before {color: black;}#sk-container-id-9 div.sk-toggleable__content {max-height: 0;max-width: 0;overflow: hidden;text-align: left;background-color: #f0f8ff;}#sk-container-id-9 div.sk-toggleable__content pre {margin: 0.2em;color: black;border-radius: 0.25em;background-color: #f0f8ff;}#sk-container-id-9 input.sk-toggleable__control:checked~div.sk-toggleable__content {max-height: 200px;max-width: 100%;overflow: auto;}#sk-container-id-9 input.sk-toggleable__control:checked~label.sk-toggleable__label-arrow:before {content: \"▾\";}#sk-container-id-9 div.sk-estimator input.sk-toggleable__control:checked~label.sk-toggleable__label {background-color: #d4ebff;}#sk-container-id-9 div.sk-label input.sk-toggleable__control:checked~label.sk-toggleable__label {background-color: #d4ebff;}#sk-container-id-9 input.sk-hidden--visually {border: 0;clip: rect(1px 1px 1px 1px);clip: rect(1px, 1px, 1px, 1px);height: 1px;margin: -1px;overflow: hidden;padding: 0;position: absolute;width: 1px;}#sk-container-id-9 div.sk-estimator {font-family: monospace;background-color: #f0f8ff;border: 1px dotted black;border-radius: 0.25em;box-sizing: border-box;margin-bottom: 0.5em;}#sk-container-id-9 div.sk-estimator:hover {background-color: #d4ebff;}#sk-container-id-9 div.sk-parallel-item::after {content: \"\";width: 100%;border-bottom: 1px solid gray;flex-grow: 1;}#sk-container-id-9 div.sk-label:hover label.sk-toggleable__label {background-color: #d4ebff;}#sk-container-id-9 div.sk-serial::before {content: \"\";position: absolute;border-left: 1px solid gray;box-sizing: border-box;top: 0;bottom: 0;left: 50%;z-index: 0;}#sk-container-id-9 div.sk-serial {display: flex;flex-direction: column;align-items: center;background-color: white;padding-right: 0.2em;padding-left: 0.2em;position: relative;}#sk-container-id-9 div.sk-item {position: relative;z-index: 1;}#sk-container-id-9 div.sk-parallel {display: flex;align-items: stretch;justify-content: center;background-color: white;position: relative;}#sk-container-id-9 div.sk-item::before, #sk-container-id-9 div.sk-parallel-item::before {content: \"\";position: absolute;border-left: 1px solid gray;box-sizing: border-box;top: 0;bottom: 0;left: 50%;z-index: -1;}#sk-container-id-9 div.sk-parallel-item {display: flex;flex-direction: column;z-index: 1;position: relative;background-color: white;}#sk-container-id-9 div.sk-parallel-item:first-child::after {align-self: flex-end;width: 50%;}#sk-container-id-9 div.sk-parallel-item:last-child::after {align-self: flex-start;width: 50%;}#sk-container-id-9 div.sk-parallel-item:only-child::after {width: 0;}#sk-container-id-9 div.sk-dashed-wrapped {border: 1px dashed gray;margin: 0 0.4em 0.5em 0.4em;box-sizing: border-box;padding-bottom: 0.4em;background-color: white;}#sk-container-id-9 div.sk-label label {font-family: monospace;font-weight: bold;display: inline-block;line-height: 1.2em;}#sk-container-id-9 div.sk-label-container {text-align: center;}#sk-container-id-9 div.sk-container {/* jupyter's `normalize.less` sets `[hidden] { display: none; }` but bootstrap.min.css set `[hidden] { display: none !important; }` so we also need the `!important` here to be able to override the default hidden behavior on the sphinx rendered scikit-learn.org. See: https://github.com/scikit-learn/scikit-learn/issues/21755 */display: inline-block !important;position: relative;}#sk-container-id-9 div.sk-text-repr-fallback {display: none;}</style><div id=\"sk-container-id-9\" class=\"sk-top-container\"><div class=\"sk-text-repr-fallback\"><pre>KNeighborsClassifier()</pre><b>In a Jupyter environment, please rerun this cell to show the HTML representation or trust the notebook. <br />On GitHub, the HTML representation is unable to render, please try loading this page with nbviewer.org.</b></div><div class=\"sk-container\" hidden><div class=\"sk-item\"><div class=\"sk-estimator sk-toggleable\"><input class=\"sk-toggleable__control sk-hidden--visually\" id=\"sk-estimator-id-9\" type=\"checkbox\" checked><label for=\"sk-estimator-id-9\" class=\"sk-toggleable__label sk-toggleable__label-arrow\">KNeighborsClassifier</label><div class=\"sk-toggleable__content\"><pre>KNeighborsClassifier()</pre></div></div></div></div></div>"
      ],
      "text/plain": [
       "KNeighborsClassifier()"
      ]
     },
     "execution_count": 90,
     "metadata": {},
     "output_type": "execute_result"
    }
   ],
   "source": [
    "from sklearn.neighbors import KNeighborsClassifier\n",
    "classifier = KNeighborsClassifier(n_neighbors = 5, metric = 'minkowski', p = 2)\n",
    "classifier.fit(X_train, y_train)"
   ]
  },
  {
   "cell_type": "markdown",
   "id": "4826e69b",
   "metadata": {},
   "source": [
    "di bawahini berguna untuk melakukan prediksi pada x_test"
   ]
  },
  {
   "cell_type": "code",
   "execution_count": 80,
   "id": "59975ee6",
   "metadata": {},
   "outputs": [],
   "source": [
    "knn_pred = classifier.predict(X_test)\n"
   ]
  },
  {
   "cell_type": "markdown",
   "id": "3cbcc634",
   "metadata": {},
   "source": [
    "dengan menggunakanjumlah data train dan data test yang sama dengan menggunkaan KNN dengan cara menghiutung jarak minkowski di temukan hasil yang lebih tinggi 100%"
   ]
  },
  {
   "cell_type": "code",
   "execution_count": 81,
   "id": "6223f712",
   "metadata": {},
   "outputs": [
    {
     "name": "stdout",
     "output_type": "stream",
     "text": [
      "1.0\n"
     ]
    }
   ],
   "source": [
    "from sklearn.metrics import confusion_matrix,accuracy_score\n",
    "ac = accuracy_score(y_test,knn_pred)\n",
    "print(ac)"
   ]
  },
  {
   "cell_type": "markdown",
   "id": "0c4fa2be",
   "metadata": {},
   "source": [
    "naive bayes"
   ]
  },
  {
   "cell_type": "markdown",
   "id": "d30c7350",
   "metadata": {},
   "source": [
    "di sini saya menggunakan gaussian naive bayyes \n",
    "$P\\left(x_i \\mid y\\right)=\\frac{1}{\\sqrt{2 \\pi \\sigma_y^2}} \\exp \\left(-\\frac{\\left(x_i-\\mu_y\\right)^2}{2 \\sigma_y^2}\\right)$"
   ]
  },
  {
   "cell_type": "code",
   "execution_count": 82,
   "id": "8c48f9c2",
   "metadata": {},
   "outputs": [],
   "source": [
    "from sklearn.naive_bayes import GaussianNB\n",
    "\n",
    "modelnb = GaussianNB()\n",
    "\n",
    "nbtrain = modelnb.fit(X_train, y_train)"
   ]
  },
  {
   "cell_type": "markdown",
   "id": "390b8162",
   "metadata": {},
   "source": [
    "di bawahini berguna untuk melakukan prediksi pada x_test"
   ]
  },
  {
   "cell_type": "code",
   "execution_count": 83,
   "id": "acbc3c81",
   "metadata": {},
   "outputs": [
    {
     "data": {
      "text/plain": [
       "array(['Iris-setosa', 'Iris-versicolor', 'Iris-versicolor', 'Iris-setosa',\n",
       "       'Iris-virginica', 'Iris-versicolor', 'Iris-virginica',\n",
       "       'Iris-setosa', 'Iris-setosa', 'Iris-virginica', 'Iris-versicolor',\n",
       "       'Iris-setosa', 'Iris-virginica', 'Iris-versicolor',\n",
       "       'Iris-versicolor', 'Iris-setosa', 'Iris-versicolor',\n",
       "       'Iris-versicolor', 'Iris-setosa', 'Iris-setosa', 'Iris-versicolor',\n",
       "       'Iris-versicolor', 'Iris-virginica', 'Iris-setosa',\n",
       "       'Iris-virginica', 'Iris-versicolor', 'Iris-setosa', 'Iris-setosa',\n",
       "       'Iris-versicolor', 'Iris-virginica'], dtype='<U15')"
      ]
     },
     "execution_count": 83,
     "metadata": {},
     "output_type": "execute_result"
    }
   ],
   "source": [
    "\n",
    "nb_pred = nbtrain.predict(X_test)\n",
    "nb_pred"
   ]
  },
  {
   "cell_type": "code",
   "execution_count": 84,
   "id": "987e7f0c",
   "metadata": {},
   "outputs": [
    {
     "name": "stdout",
     "output_type": "stream",
     "text": [
      "0.9666666666666667\n"
     ]
    }
   ],
   "source": [
    "akurat = accuracy_score(y_test, nb_pred)\n",
    "print(akurat)\n"
   ]
  },
  {
   "cell_type": "markdown",
   "id": "9f955418",
   "metadata": {},
   "source": [
    "dengan split data test dan data train yang sama , akurasinya sama dengan yang menggunakan decision tree "
   ]
  }
 ],
 "metadata": {
  "kernelspec": {
   "display_name": "Python 3 (ipykernel)",
   "language": "python",
   "name": "python3"
  },
  "language_info": {
   "codemirror_mode": {
    "name": "ipython",
    "version": 3
   },
   "file_extension": ".py",
   "mimetype": "text/x-python",
   "name": "python",
   "nbconvert_exporter": "python",
   "pygments_lexer": "ipython3",
   "version": "3.10.9"
  }
 },
 "nbformat": 4,
 "nbformat_minor": 5
}
